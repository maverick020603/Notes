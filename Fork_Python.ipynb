{
  "nbformat": 4,
  "nbformat_minor": 0,
  "metadata": {
    "colab": {
      "provenance": []
    },
    "kernelspec": {
      "name": "python3",
      "display_name": "Python 3"
    },
    "language_info": {
      "name": "python"
    }
  },
  "cells": [
    {
      "cell_type": "markdown",
      "source": [
        "# ***Module 1***"
      ],
      "metadata": {
        "id": "Rr3zU_zyWrWu"
      }
    },
    {
      "cell_type": "code",
      "execution_count": null,
      "metadata": {
        "id": "Xg-11fVIVpwm"
      },
      "outputs": [],
      "source": [
        "# FORK PYTHON\n",
        "# is used to comment lines \n",
        "# python can be used within C/C++ to give scripting capabilites\n",
        "# creating an empty list \n",
        "#num= []\n",
        "\n",
        "# appending data in list  \n",
        "\"\"\"num.append(21) \n",
        "num.append(40.5) \n",
        "num.append(\"String\")\n",
        "print(num)\"\"\"\n",
        "\"\"\"multi line comment\"\"\"\n",
        "\n",
        "# getting input from user\n",
        "name= input(\"Enter your name\")\n",
        "print(\"hello\",name)\n",
        "\n",
        "# default return type of input is string\n",
        "#n1= int(input(\"Enter number: \")) int(input()) is used to change the return type of input to integer\n",
        "#n2= int(input(\"Enter number: \"))\n",
        "#pro=n1*n2\n",
        "#print(\"Product is \",pro)\n",
        "#def hello(): def is used as a keyword for defining a function\n",
        " #   print(\"Hello\")\n",
        "#hello() calling of a fucntion\n",
        "#basic program\n",
        "\n",
        "def get_integer():\n",
        "    result=int(input(\"Enter integer: \"))\n",
        "    return result\n",
        "def main():\n",
        "    print(\"Started\")\n",
        "    output=get_integer()\n",
        "    print(output)\n",
        "main()\n",
        "\n",
        "import math  #math library\n",
        "\n",
        "num =-85\n",
        "num=math.fabs(num) #fabs is used to get the absolute value of a decimal\n",
        "print(num)\n",
        "\n",
        "# DATA TYPES OF PYTHON\n",
        "\"\"\" \n",
        "Data Types\n",
        "Standard:\n",
        "-Numeric\n",
        "-Sequence\n",
        "-Boolean\n",
        "-Set\n",
        "-Dictionary\n",
        "-List\n",
        "-Tuples\n",
        "-String\n",
        "type() is used to determine the data type\"\"\"\n",
        "#eg:\n",
        "\"\"\"import cmath  #math library for mathematical functions on complex numbers\n",
        "a=5 \n",
        "print(\"Data type of a: \", type(a))\n",
        "\n",
        "b=5.0\n",
        "print(\"Data type of a: \", type(b))\n",
        "x=2\n",
        "y=4\n",
        "c=complex(x,y)\n",
        "print(\"Data type of a: \", type(c))\"\"\"\n",
        "\n",
        "\"\"\" Strings\n",
        "created using single,double & triple quotes\n",
        "creating a string with multiple quotes allows multiple lines\"\"\"\n",
        "#eg \n",
        "\"\"\"String1='''Geeks\n",
        "for life'''\n",
        "print(String1)\"\"\"\n",
        "\n",
        "# To access the last character of a string we use the index -1 and so on\n",
        "\n",
        "\"\"\"\n",
        "In Python negative sequence indexes \n",
        "represent positions from the end of the array\n",
        "\"\"\" \n",
        "\n",
        "# LIST\n",
        "#values of a list do not need to be of the same data type\n",
        "# Creation of a list\n",
        "\"\"\"\n",
        "eg: List=[]\n",
        "list=[\"Hello\"]\n",
        "List=[\"Geeks\",\"Geeks\",\"GFG\"]\n",
        "list=[\"Hello\",1,2.5]\n",
        "\"\"\"\n",
        "#MultiDimesional List (Nesting a list inside a list)\n",
        "\"\"\"List=[[\"Geeks\",\"For\"],[\"Geeks\"]]\n",
        "print(List)\"\"\"\n",
        "\n",
        "# TUPLES\n",
        "#Tuples are immutable(cannot be modified after they have been created)\n",
        "#  Creating a tuple\n",
        "\"\"\"eg:\n",
        "tuple1=()\n",
        "tuple1=(\"Geeks\",\"for\")\"\"\"\n",
        "\n",
        "\"\"\" Creating a tuple using list\n",
        "list1=[1,2,3,4]\n",
        "print(tuple(list1))\n",
        "\"\"\"\n",
        "#tuple() is an inbuilt function used to create tuples\n",
        "\"\"\"\n",
        "tuple1=tuple(\"Geeks\")\n",
        "\"\"\"\n",
        "\"\"\" Nested tuple creation\n",
        "tuple1=(0,1,2)\n",
        "tuple2=(\"Hi\",\"hello\")\n",
        "tuple3=(tuple1,tuple2)\n",
        "print(\"\\nTuple3 is\", tuple3)\n",
        "\"\"\"\n",
        "#Creation of Python tuple without the use of parentheses \n",
        " #is known as Tuple Packing.\n",
        "\n",
        "#SET\n",
        "#set has no duplicate elements\n",
        "\"\"\"Creation of Set\n",
        "set1=set()\n",
        "set1=set(\"GeeksforGeeks\")\n",
        "set1=set([\"Geeks\",\"For\",\"Geeks\"]) # creating a using a list\n",
        "\"\"\"\n",
        "\"\"\"\n",
        "set1=set([1,2,\"Geeks\",4,\"For\",5,\"Geeks\",6]) #set using mixed values\n",
        "print(set1)\n",
        "O/P  {1, 2, 4, 5, 6, 'For', 'Geeks'}\n",
        "\"\"\"\n",
        "\n",
        "# Accessing elements \n",
        "#Using a for loop to access elements\n",
        "\"\"\"set1=set([\"Geeks\",\"For\",\"Geeks\"])\n",
        "print(\"Elements of the set: \")\n",
        "for i in set1:\n",
        "    print(i,end=\" \")\"\"\"\n",
        "#Checking for an element\n",
        "\"\"\"set1=set([\"Geeks\",\"For\",\"Geeks\"])\n",
        "print(\"For\" in set1) #returns true or false\n",
        "\"\"\"\n",
        "# DICTIONARY\n",
        "\"\"\"Key-value is provided in the dictionary to make it more optimized. \n",
        "Each key-value pair in a Dictionary is separated by a colon :, \n",
        "whereas each key is separated by a comma.\"\"\"\n",
        "#Creating a dictionary\n",
        "\"\"\"\n",
        "eg:Dict={}, \n",
        "Dict={1:\"Geeks\",2:\"For\",3:\"Geeks\"} #using integer keys\n",
        "\n",
        "Dict={\"Name\":\"Geeks\",1:[1,2,3,4]} #mixed keys \n",
        "\n",
        "Dict=dict({1:\"Geeks\",2:\"For\",3:\"Geeks\"}) #creating using dict method\n",
        "Dict=dict([(1,\"Geeks\"),(2,\"For\")]) #with each item as a pair\n",
        "print(Dict)\n",
        "\"\"\"\n",
        "#Accessing elements \n",
        "# two way:- using a key or using the get method\n",
        "\"\"\"Dict={1:\"Geeks\",2:\"For\",3:\"Geeks\"}\n",
        "print(\"Using key:\",Dict[1])\n",
        "print(\"Using get method:\",Dict.get(3))\"\"\"\n",
        "\n",
        "# OPERATORS\n",
        "#Arithmetic Operators\n",
        "# + - / // * **\n",
        "# /- division(float)\n",
        "#//- division (floor returns only the integer)\n",
        "#** - exponent\n",
        "\"\"\"\n",
        "Precendence\n",
        "P-Parentheses\n",
        "E-Exponent\n",
        "M-Multiplication\n",
        "D-Divide\n",
        "A-Addition\n",
        "S-Subtraction\n",
        "M=D\n",
        "A=S\n",
        "\"\"\"\n",
        "\"\"\"Most of the comparison operators are same as c++, \n",
        "is and is not are 2 other operators in python. \n",
        "They are also called identity operators\"\"\"\n",
        "\n",
        "# Bitwise Operators\n",
        "\"\"\"\n",
        "&  AND\n",
        "|  OR\n",
        "~  NOT\n",
        "^  XOR \n",
        ">> RIGHT SHIFT\n",
        "<< LEFT SHIFT \n",
        "\"\"\"\n",
        "#Membership Operators\n",
        "\"\"\"\n",
        "in-true if the vaue is found \n",
        "not in-true if the value is not found\n",
        "\"\"\"\n",
        "# id() function return the address of an object.\n",
        "\n",
        "\"\"\"\n",
        "Types of Conversion :-\n",
        "1. Implicit Conversion\n",
        "2. Explicit Conversion\n",
        "\n",
        "Explicit Conversion\n",
        "Functions used in conversion: \n",
        "1. int(a, base): This function converts any data type to integer. \n",
        "'Base' specifies the base in which string is if the data type is a string.\n",
        "2. float(): This function is used to convert any data type to a \n",
        "floating-point number. \n",
        "3. ord() : This function is used to convert a character to integer.\n",
        "4. hex() : This function is to convert integer to hexadecimal string.\n",
        "5. oct() : This function is to convert integer to octal string.\n",
        "6. tuple() : This function is used to convert to a tuple.\n",
        "7. set() : This function returns the type after converting to set.\n",
        "8. list() : This function is used to convert any data type to a list type.\n",
        "9. dict() : This function is used to convert a tuple of order (key,value) into a dictionary.\n",
        "10. str() : Used to convert integer into a string.\n",
        "11. complex(real,imag) : This function converts real numbers to \n",
        "complex(real,imag) number.\n",
        "12. chr(number): This function converts number to its corresponding \n",
        "ASCII character. \n",
        "\n",
        "\n",
        "\n",
        "\"\"\""
      ]
    },
    {
      "cell_type": "markdown",
      "source": [
        "# ***Module 2***"
      ],
      "metadata": {
        "id": "vWQLgpJjWlDg"
      }
    },
    {
      "cell_type": "code",
      "source": [
        "# Module 2\n",
        "# Control Statements and Loops\n",
        "\n",
        "\"\"\" \n",
        "if-else statements\n",
        "Syntax:\n",
        "if condition:\n",
        "    statement to execute\n",
        "    condition is true\n",
        "else:\n",
        "    executes only if is false\n",
        "# Short hand if-else statement\n",
        "   eg:  print(true) if i<15 else print(False)\n",
        "\"\"\"\n",
        "\n",
        "# Calculator Program\n",
        "def add(x,y):\n",
        "    return x+y\n",
        "def sub(x,y):\n",
        "    return x-y\n",
        "def mutiply(x,y):\n",
        "    return x*y\n",
        "def divide(x,y):\n",
        "    return x/y\n",
        "\n",
        "print(\"Choose from the options below: \\n\")\n",
        "print(\"1. Add\\n2.Subtract\\n3.Multiply\\n4.Divide\\n\")\n",
        "ch=int(input())\n",
        "print(\"Enter the numbers: \")\n",
        "num1=float(input())\n",
        "num2=float(input())\n",
        "\n",
        "if(ch==1):\n",
        "    print(\"Sum of \", num1,\"& \",num2,\"is \",add(num1,num2))\n",
        "elif(ch==2):\n",
        "    print(\"Difference of \", num1,\"& \",num2,\"is \",sub(num1,num2))\n",
        "elif(ch==3):\n",
        "    print(\"Product of \", num1,\"& \",num2,\"is \",multiply(num1,num2))\n",
        "else:\n",
        "    print(\"Quotient of \", num1,\"& \",num2,\"is \",divide(num1,num2))\n",
        "\n",
        "\n",
        "\n",
        "# LOOPS\n",
        "\"\"\"\n",
        "while loop\n",
        "\n",
        "syntax:\n",
        "while expression:\n",
        "    statements\n",
        "\"\"\" \n",
        "#eg:\n",
        "cnt=0\n",
        "while(cnt<3):\n",
        "    print(\"while loop\")\n",
        "    cnt+=1\n",
        "\n",
        "# Python program to illustrate\n",
        "#combining else with while\n",
        "\n",
        "count = 0\n",
        "while (count < 3):    \n",
        "    count = count + 1\n",
        "    print(\"Hello Geek\")\n",
        "else:\n",
        "    print(\"In Else Block\")\n",
        "\"\"\"\n",
        "for loop\n",
        "\n",
        "syntax:\n",
        "for iterator_var in sequence:\n",
        "    statements(s)\n",
        "\"\"\"\n",
        "#eg:\n",
        "n=4\n",
        "for i in range(0,4):\n",
        "  print(\"for loops\")\n",
        "\n",
        "# Python programs to illustrate\n",
        "\n",
        "# Iterating over a list\n",
        "\n",
        "print(\"List Iteration\")\n",
        "l = [\"geeks\", \"for\", \"geeks\"]\n",
        "for i in l:\n",
        "    print(i)\n",
        "\n",
        "\n",
        "# Iterating over a tuple\n",
        "\n",
        "print(\"Tuple Iteration\")\n",
        "t=(\"geeks\",\"for\", \"geeks\")\n",
        "for i in t:\n",
        "  print(i)\n",
        "     \n",
        "\n",
        "# Iterating over a string\n",
        "\n",
        "print(\"String Iteration\")\n",
        "s=\"Rohan\"\n",
        "for i in s:\n",
        "  print(i)\n",
        "\n",
        "\n",
        "# Iterating over a dictionary\n",
        "\n",
        "print(\"Dictionary iteration\")\n",
        "d={'abc': 123,'xyz':456}\n",
        "for i in d:\n",
        "  print(i)\n",
        "\n",
        "# Iteration by index sequences\n",
        "\n",
        "list = [\"geeks\", \"for\", \"geeks\"]\n",
        "for index in range(len(list)):\n",
        "    print(list[index])\n",
        "\n",
        "\n",
        "# Combining else with for\n",
        "\n",
        "list = [\"geeks\", \"for\", \"geeks\"]\n",
        "for index in range(len(list)):\n",
        "    print(list[index])\n",
        "else:\n",
        "    print(\"Inside Else Block\")\n",
        "\n",
        "\n",
        "# How for loop in Python works internally?\n",
        "\n",
        "fruits = [\"apple\", \"orange\", \"kiwi\"]\n",
        "\n",
        "# Creating an iterator object \n",
        "# from that iterable i.e fruits\n",
        "iter_obj = iter(fruits)\n",
        "\n",
        "# Infinite while loop\n",
        "while True:\n",
        "  try:\n",
        "    # getting the next item\n",
        "    fruit = next(iter_obj)\n",
        "    print(fruit)\n",
        "  except StopIteration:\n",
        "\n",
        "    # if StopIteration is raised, \n",
        "    # break from loop\n",
        "    break\n",
        "\n"
      ],
      "metadata": {
        "id": "Tcs16vSHWnP5"
      },
      "execution_count": null,
      "outputs": []
    },
    {
      "cell_type": "markdown",
      "source": [
        "***Note:***\n",
        "\n",
        "*Enumerate:* Enumerate is built-in python function that takes input as iterator, list etc and returns a tuple containing index and data at that index in the iterator sequence. For example, enumerate(cars), returns a iterator that will return (0, cars[0]), (1, cars[1]), (2, cars[2]), and so on. "
      ],
      "metadata": {
        "id": "mIqDP5-bZC8Z"
      }
    },
    {
      "cell_type": "code",
      "source": [
        "# Accessing items using enumerate()\n",
        "cars = [\"Aston\" , \"Audi\", \"McLaren \"]\n",
        "for i, x in enumerate(cars):\n",
        "    print (x)\n",
        "\n",
        "# Accessing items and indexes enumerate()\n",
        "cars = [\"Aston\" , \"Audi\", \"McLaren \"]\n",
        "for x in enumerate(cars):\n",
        "    print (x[0], x[1])\n",
        "\n",
        "# Printing return value of enumerate() \n",
        "cars = [\"Aston\" , \"Audi\", \"McLaren \"]\n",
        "print(enumerate(cars))\n",
        "\n",
        "# demonstrating the use of start in enumerate\n",
        "cars = [\"Aston\" , \"Audi\", \"McLaren \"]\n",
        "for x in enumerate(cars, start=1):\n",
        "    print (x[0], x[1]) #enumerate takes a start value the default value if not specified is 0\n",
        "\n"
      ],
      "metadata": {
        "id": "p4coZ7VbZkcJ"
      },
      "execution_count": null,
      "outputs": []
    },
    {
      "cell_type": "markdown",
      "source": [
        "***Loop Control Statements***\n",
        "\n",
        "Loop control statements change execution from its normal sequence. When execution leaves a scope, all automatic objects that were created in that scope are destroyed. Python supports the following control statements.\n"
      ],
      "metadata": {
        "id": "oBczZCfmS9l4"
      }
    },
    {
      "cell_type": "code",
      "source": [
        "#1. continue statement\n",
        "\"\"\"It returns the control to the beginning of the loop.\"\"\" \n",
        "#Prints all letters except 'e' and 's'\n",
        "for letter in 'geeksforgeeks':\n",
        "  if letter == 'e' or letter == 's':\n",
        "    continue\n",
        "  print(\"Current Letter :{}\".format(letter))\n",
        "\n",
        "#2. break Statement\n",
        "\"\"\"It brings control out of the loop\"\"\"\n",
        "for letter in 'geeksforgeeks':\n",
        "    # break the loop as soon it sees 'e' \n",
        "    # or 's'\n",
        "  if letter == 'e' or letter == 's':\n",
        "       break\n",
        "print('Current Letter :'+ letter)\n",
        "\n",
        "#3. pass statement\n",
        "\"\"\"We use pass statement to write empty loops. Pass is also used for empty \n",
        "control statement, function and classes.\"\"\"\n",
        "# An empty loop\n",
        "for letter in 'geeksforgeeks':\n",
        "  pass\n",
        "print 'Last Letter :', letter\n"
      ],
      "metadata": {
        "id": "UEjD-VZBS9D1"
      },
      "execution_count": null,
      "outputs": []
    },
    {
      "cell_type": "markdown",
      "source": [
        "# ***Module 3***"
      ],
      "metadata": {
        "id": "oerEZhbMc4XR"
      }
    },
    {
      "cell_type": "code",
      "source": [
        "#Functions in Python\n",
        "\"\"\"\n",
        "Python Functions is a block of related statements designed to perform a \n",
        "computational, logical, or evaluative task.Functions can be both built-in or \n",
        "user-defined. It helps the program to be concise, non-repetitive, and organized.\n",
        "\n",
        "Syntax: \n",
        "\n",
        "def function_name(parameters):\n",
        "\t\"\"\"docstring\"\"\"\n",
        "\tstatement(s)\n",
        "\treturn expression\n",
        "\"\"\"\n",
        "\n",
        "\"\"\"\n",
        "Creating a Function\n",
        "We can create a Python function using the def keyword.\n",
        "\n",
        "Calling a Function\n",
        "After creating a function we can call it by using the name of the function \n",
        "followed by parenthesis containing parameters of that particular function.\n",
        "\n",
        "Arguments of a Function\n",
        "Arguments are the values passed inside the parenthesis of the function. \n",
        "A function can have any number of arguments separated by a comma.\n",
        "\"\"\""
      ],
      "metadata": {
        "id": "duFAPf08dCKZ"
      },
      "execution_count": null,
      "outputs": []
    },
    {
      "cell_type": "markdown",
      "source": [
        "**Types of Arguments:-**\n",
        "\n",
        "\n",
        "1.   *Default Arguments*: A default argument is a parameter that assumes a default value if a value is not provided in the function call for that argument. Eg:- def myFun(x, y=50)\n",
        "2.   *Keyword Arguments*: The idea is to allow the caller to specify the argument name with values so that caller does not need to remember the order of parameters. Eg:- \n",
        "def student(firstname, lastname):\n",
        "\tprint(firstname, lastname)\n",
        "Keyword arguments\n",
        "student(firstname='Geeks', lastname='Practice')\n",
        "student(lastname='Practice', firstname='Geeks')\n",
        "\n",
        "3. *Variable-length Arguments*: we can pass a variable number of arguments to a function using special symbols. There are two special symbols:\n",
        "\n",
        "    1. *args (Non-Keyword Arguments)\n",
        "    2. **kwargs (Keyword Arguments)"
      ],
      "metadata": {
        "id": "oJh6Exj9g2sy"
      }
    },
    {
      "cell_type": "code",
      "source": [
        "#Eg1: Variable length non-keywords argument\n",
        "# *args for variable number of arguments\n",
        "def myFun(*argv):\n",
        "\tfor arg in argv:\n",
        "\t\tprint(arg)\n",
        "\n",
        "\n",
        "myFun('Hello', 'Welcome', 'to', 'GeeksforGeeks')\n",
        "\n",
        "#Eg: Variable length keyword arguments\n",
        "# *kwargs for variable number of keyword arguments\n",
        "def myFun(**kwargs):\n",
        "\tfor key, value in kwargs.items():\n",
        "\t\tprint(\"%s == %s\" % (key, value))\n",
        "\n",
        "# Driver code\n",
        "myFun(first='Geeks', mid='for', last='Geeks')"
      ],
      "metadata": {
        "colab": {
          "base_uri": "https://localhost:8080/"
        },
        "id": "gWrYO4QHiboQ",
        "outputId": "41294d6c-216a-45eb-ec34-b0468493f03c"
      },
      "execution_count": null,
      "outputs": [
        {
          "output_type": "stream",
          "name": "stdout",
          "text": [
            "Hello\n",
            "Welcome\n",
            "to\n",
            "GeeksforGeeks\n",
            "first == Geeks\n",
            "mid == for\n",
            "last == Geeks\n"
          ]
        }
      ]
    },
    {
      "cell_type": "markdown",
      "source": [
        "**Docstring**\n",
        "\n",
        "The first string after the function is called the Document string or Docstring in short. This is used to describe the functionality of the function. The use of docstring in functions is optional but it is considered a good practice.\n",
        "\n",
        "The below syntax can be used to print out the docstring of a function:\n",
        "\n",
        "***Syntax:*** print(function_name.__doc__)"
      ],
      "metadata": {
        "id": "2HuvP3EKjSjs"
      }
    },
    {
      "cell_type": "code",
      "source": [
        "#Eg:\n",
        "def evenOdd(x):\n",
        "\t\"\"\"Function to check if the number is even or odd\"\"\"\n",
        "\tif (x % 2 == 0):\n",
        "\t\tprint(\"even\")\n",
        "\telse:\n",
        "\t\tprint(\"odd\")\n",
        "\n",
        "# Driver code to call the function\n",
        "print(evenOdd.__doc__)"
      ],
      "metadata": {
        "colab": {
          "base_uri": "https://localhost:8080/"
        },
        "id": "nXveroJxi-nW",
        "outputId": "624e819a-9692-4bcb-8825-84361fe2965e"
      },
      "execution_count": null,
      "outputs": [
        {
          "output_type": "stream",
          "name": "stdout",
          "text": [
            "Function to check if the number is even or odd\n"
          ]
        }
      ]
    },
    {
      "cell_type": "markdown",
      "source": [
        "**Anonymous functions:**In Python, an anonymous function means that a function is without a name. As we already know the def keyword is used to define the normal functions and the *lambda keyword is used to create anonymous functions.*"
      ],
      "metadata": {
        "id": "fMZrlGVBl_Sb"
      }
    },
    {
      "cell_type": "code",
      "source": [
        "# Python code to illustrate the cube of a number\n",
        "# using lambda function\n",
        "\n",
        "def cube(x): return x*x*x\n",
        "\n",
        "cube_v2 = lambda x : x*x*x\n",
        "\n",
        "print(cube(7))\n",
        "print(cube_v2(7))"
      ],
      "metadata": {
        "id": "YTL459Sul-5K"
      },
      "execution_count": null,
      "outputs": []
    },
    {
      "cell_type": "markdown",
      "source": [
        "*Python Function within Functions*: \n",
        "A function that is defined inside another function is known as the inner function or nested function. Nested functions are able to access variables of the enclosing scope. Inner functions are used so that they can be protected from everything happening outside the function.\n",
        "\n"
      ],
      "metadata": {
        "id": "vfv98Jilmmdj"
      }
    },
    {
      "cell_type": "markdown",
      "source": [
        "pass statement: The pass statement is a null statement.Difference b/w pass & comment is that comment is ignored by the interpreter whereas pass is not ignored.\n",
        "The pass statement is generally used as a placeholder i.e. when the user does not know what code to write. So user simply places pass at that line. Sometimes, pass is used when the user doesn’t want any code to execute"
      ],
      "metadata": {
        "id": "s1xUqz7vnElB"
      }
    },
    {
      "cell_type": "code",
      "source": [
        "# Yield Function\n",
        "\"\"\"\n",
        "Yield is a keyword in Python that is used to return from a function without \n",
        "destroying the states of its local variable and when the function is called, \n",
        "the execution starts from the last yield statement. Any function that contains \n",
        "a yield keyword is termed a generator. Hence, yield is what makes a generator.\n",
        "\"\"\"\n",
        "\"\"\"\n",
        "Note:- While using yield the old state is retained, the flow doesn’t start from \n",
        "the beginning and hence saves time.\n",
        "\"\"\"\n",
        "#Eg:\n",
        "# yield keyword\n",
        "# generator to print even numbers\n",
        "def print_even(test_list) :\n",
        "    for i in test_list:\n",
        "        if i % 2 == 0:\n",
        "            yield i\n",
        "            \n",
        "test_list = [1, 4, 5, 6, 7]\n",
        "print (\"The original list is : \" + str(test_list))\n",
        "print (\"The even numbers in list are : \", end = \" \")\n",
        "for j in print_even(test_list):\n",
        "    print (j, end = \" \")"
      ],
      "metadata": {
        "colab": {
          "base_uri": "https://localhost:8080/"
        },
        "id": "bKR0MZN8msZ3",
        "outputId": "7442076e-9847-4dc2-9ac1-1dfa8a136a8e"
      },
      "execution_count": null,
      "outputs": [
        {
          "output_type": "stream",
          "name": "stdout",
          "text": [
            "The original list is : [1, 4, 5, 6, 7]\n",
            "The even numbers in list are :  4 6 "
          ]
        }
      ]
    },
    {
      "cell_type": "markdown",
      "source": [
        "Python Modules are files containing Python definitions and statements. A module can define functions, classes, and variables. A module can also include runnable code.\n",
        "\n",
        "We can import the functions, classes defined in a module to another module using the import statement in some other Python source file.\n",
        "\n",
        "Syntax:\n",
        "\n",
        "import module_name\n",
        "\n",
        "**Note:** This does not import the functions or classes directly instead imports the module only. To access the functions inside the module the dot(.) operator is used.\n",
        "\n",
        "**The from import Statement:** \n",
        "Python’s from statement lets you import specific attributes from a module without importing the module as a whole.\n"
      ],
      "metadata": {
        "id": "q-wI2C7pkLhz"
      }
    },
    {
      "cell_type": "code",
      "source": [
        "# Examples of import\n",
        "import math #imports the whole math module\n",
        "\n",
        "from math import sqrt, factorial #imports only specific functions from the module\n",
        "\n",
        "#another way of importing all the function in a module \n",
        "from math import * "
      ],
      "metadata": {
        "id": "5XJwJNTznDf0"
      },
      "execution_count": null,
      "outputs": []
    },
    {
      "cell_type": "markdown",
      "source": [
        "Difference b/w import math and from math import*\n",
        "\n",
        "In from math import *, all math names are available without the dot notation."
      ],
      "metadata": {
        "id": "msjxJeE_ne2m"
      }
    },
    {
      "cell_type": "code",
      "source": [
        "import sys\n",
        "print(sys.path)"
      ],
      "metadata": {
        "id": "hOs7xDcVuQ0L"
      },
      "execution_count": null,
      "outputs": []
    },
    {
      "cell_type": "markdown",
      "source": [
        "We can rename the module while importing it using the as keyword.\n",
        "\n",
        "Syntax: \n",
        "\n"
      ],
      "metadata": {
        "id": "pxITUYV-wtEe"
      }
    },
    {
      "cell_type": "code",
      "source": [
        "import math as gfg"
      ],
      "metadata": {
        "id": "aifvRI_hwsM5"
      },
      "execution_count": null,
      "outputs": []
    },
    {
      "cell_type": "markdown",
      "source": [
        "**Classes**\n",
        "\n",
        "Class creates a user-defined data structure, which holds its own data members and member functions, which can be accessed and used by creating an instance of that class. A class is like a blueprint for an object.\n",
        "\n",
        "\n",
        "Some points on Python class:\n",
        "\n",
        "1. Classes are created by keyword class.\n",
        "2. Attributes are the variables that belong to a class.\n",
        "3. Attributes are always public and can be accessed using the dot (.) operator.\n",
        "Eg: Myclass.Myattribute\n",
        "\n",
        "An object of a class consists of :\n",
        "1. State: It is represented by the attributes of an object. It also reflects the properties of an object.\n",
        "2. Behavior: It is represented by the methods of an object. It also reflects the response of an object to other objects.\n",
        "3. Identity: It gives a unique name to an object and enables one object to interact with other objects."
      ],
      "metadata": {
        "id": "tbXb4cvfxJT3"
      }
    },
    {
      "cell_type": "code",
      "source": [
        "# Declaring an obejct of a class\n",
        "class Dog:\n",
        "  # attribute\n",
        "  attr1 = \"mammal\"\n",
        "  attr2 = \"dog\"\n",
        "\n",
        "# A sample method\n",
        "  def fun(self):\n",
        "    print(\"I'm a\", self.attr1)\n",
        "    print(\"I'm a\", self.attr2)\n",
        "\n",
        "\n",
        "# Driver code\n",
        "# Object instantiation\n",
        "Rodger = Dog()\n",
        "\n",
        "# Accessing class attributes\n",
        "# and method through objects\n",
        "print(Rodger.attr1)\n",
        "Rodger.fun()\n",
        "# attribute\n"
      ],
      "metadata": {
        "colab": {
          "base_uri": "https://localhost:8080/"
        },
        "id": "MK6Su__ygCbf",
        "outputId": "4f7f695e-acdd-4565-fa64-fd2c4bd9f275"
      },
      "execution_count": null,
      "outputs": [
        {
          "output_type": "stream",
          "name": "stdout",
          "text": [
            "mammal\n",
            "I'm a mammal\n",
            "I'm a dog\n"
          ]
        }
      ]
    },
    {
      "cell_type": "markdown",
      "source": [
        "*Self *\n",
        "\n",
        "self represents the instance of the class. By using the “self”  we can access the attributes and methods of the class in python. It binds the attributes with the given arguments.\n",
        "\n",
        "_ _init_ _  method\n",
        "\n",
        "The __init__ method is similar to constructors in C++ and Java. Constructors are used to initializing the object’s state.Like methods, a constructor also contains a collection of statements that are executed at the time of Object creation. It runs as soon as an object of a class is instantiated. The method is useful to do any initialization you want to do with your object."
      ],
      "metadata": {
        "id": "HF-eG8-Xm7u7"
      }
    },
    {
      "cell_type": "code",
      "source": [
        "class Person:\n",
        "\n",
        "# init method or constructor\n",
        "  def __init__(self, name):\n",
        "    self.name = name\n",
        "\n",
        "# Sample Method\n",
        "  def say_hi(self):\n",
        "    print('Hello, my name is', self.name)\n",
        "\n",
        "\n",
        "p = Person('Nikhil')\n",
        "p.say_hi()"
      ],
      "metadata": {
        "colab": {
          "base_uri": "https://localhost:8080/"
        },
        "id": "sym1VZhztMC5",
        "outputId": "d1ba46b1-15a6-40a1-c191-7514c1932ab1"
      },
      "execution_count": null,
      "outputs": [
        {
          "output_type": "stream",
          "name": "stdout",
          "text": [
            "Hello, my name is Nikhil\n"
          ]
        }
      ]
    },
    {
      "cell_type": "markdown",
      "source": [
        "**Class and Instance Variables**\n",
        "\n",
        "Instance variables are for data, unique to each instance and class variables are for attributes and methods shared by all instances of the class. Instance variables are variables whose value is assigned inside a constructor or method with self whereas class variables are variables whose value is assigned in the class"
      ],
      "metadata": {
        "id": "ip6qYEC5xSvo"
      }
    },
    {
      "cell_type": "code",
      "source": [
        "# Python3 program to show that the variables with a value\n",
        "# assigned in the class declaration, are class variables and\n",
        "# variables inside methods and constructors are instance\n",
        "# variables.\n",
        "\n",
        "class Dog:\n",
        "  # Class Variable\n",
        "  animal = 'dog'\n",
        "  # The init method or constructor\n",
        "  def __init__(self, breed, color):\n",
        "\n",
        "    # Instance Variable\n",
        "    self.breed = breed\n",
        "    self.color = color\n",
        "\n",
        "# Objects of Dog class\n",
        "Rodger = Dog(\"Pug\", \"brown\")\n",
        "Buzo = Dog(\"Bulldog\", \"black\")\n",
        "\n",
        "print('Rodger details:')\n",
        "print('Rodger is a', Rodger.animal)\n",
        "print('Breed: ', Rodger.breed)\n",
        "print('Color: ', Rodger.color)\n",
        "\n",
        "print('\\nBuzo details:')\n",
        "print('Buzo is a', Buzo.animal)\n",
        "print('Breed: ', Buzo.breed)\n",
        "print('Color: ', Buzo.color)\n",
        "# Class variables can be accessed using class\n",
        "# name also\n",
        "print(\"\\nAccessing class variable using class name\")\n",
        "print(Dog.animal)"
      ],
      "metadata": {
        "colab": {
          "base_uri": "https://localhost:8080/"
        },
        "id": "J9-9EtwdyOsw",
        "outputId": "3d901757-91a5-4d27-b5b1-fa8ccc4c1c8e"
      },
      "execution_count": null,
      "outputs": [
        {
          "output_type": "stream",
          "name": "stdout",
          "text": [
            "Rodger details:\n",
            "Rodger is a dog\n",
            "Breed:  Pug\n",
            "Color:  brown\n",
            "\n",
            "Buzo details:\n",
            "Buzo is a dog\n",
            "Breed:  Bulldog\n",
            "Color:  black\n",
            "\n",
            "Accessing class variable using class name\n",
            "dog\n"
          ]
        }
      ]
    },
    {
      "cell_type": "code",
      "source": [
        "#Defining instance variables using the normal method.\n",
        "\n",
        "class Dog:\n",
        "  # Class Variable\n",
        "  animal = 'dog'\n",
        "\n",
        "# The init method or constructor\n",
        "  def __init__(self, breed):\n",
        "\n",
        "# Instance Variable\n",
        "    self.breed = breed\n",
        "\n",
        "# Adds an instance variable\n",
        "  def setColor(self, color):\n",
        "    self.color = color\n",
        "\n",
        "# Retrieves instance variable\n",
        "  def getColor(self):\n",
        "    return self.color\n",
        "\n",
        "\n",
        "# Driver Code\n",
        "Rodger = Dog(\"pug\")\n",
        "Rodger.setColor(\"brown\")\n",
        "print(Rodger.getColor())\n"
      ],
      "metadata": {
        "colab": {
          "base_uri": "https://localhost:8080/"
        },
        "id": "bf8V7swUzdiI",
        "outputId": "fa4ca3fe-2b75-41b4-8214-83ae506aa284"
      },
      "execution_count": null,
      "outputs": [
        {
          "output_type": "stream",
          "name": "stdout",
          "text": [
            "brown\n"
          ]
        }
      ]
    },
    {
      "cell_type": "markdown",
      "source": [
        "**Lambda Function**\n",
        "\n",
        "Lambda Functions are anonymous function means that the function is without a name.The lambda keyword is used to define an anonymous function in Python.\n",
        "\n",
        "Syntax:\n",
        "\n",
        "lambda_funcname=lambda arguments : expression\n",
        "\n",
        "Lambda function can have any number of arguments but only one expression, which is evaluated and returned.\n",
        "\n",
        "\n",
        "fliter()\n",
        "\n",
        "The filter() function in Python takes in a function and a list as arguments. allows you to filter a range of data based on criteria you define.\n",
        "\n",
        "map()\n",
        "Takes in a function and a list as arguments. map() is a built-in function that allows you to process and transform all the items in an iterable without using an explicit for loop.\n",
        "\n",
        "reduce()\n",
        "\n",
        "The reduce() function in Python takes in a function and a list as an argument. Executes a reducer function for array element.The reduce() function belongs to the functools module."
      ],
      "metadata": {
        "id": "Yy0peU2b0IKD"
      }
    },
    {
      "cell_type": "code",
      "source": [
        "# lambda functions\n",
        "#Examples:-\n",
        "#1\n",
        "x =\"GeeksforGeeks\"\n",
        "# lambda gets pass to print\n",
        "(lambda x : print(x))(x)"
      ],
      "metadata": {
        "colab": {
          "base_uri": "https://localhost:8080/"
        },
        "id": "nLPc34EaIALE",
        "outputId": "3ef6b28f-fc1a-4027-b8a5-589e3b9ae3b8"
      },
      "execution_count": null,
      "outputs": [
        {
          "output_type": "stream",
          "name": "stdout",
          "text": [
            "GeeksforGeeks\n"
          ]
        }
      ]
    },
    {
      "cell_type": "code",
      "source": [
        "#2. Difference b/w the def and lambda\n",
        "# showing difference between def() and lambda().\n",
        "def cube(y):\n",
        "  return y*y*y\n",
        "\n",
        "lambda_cube = lambda y: y*y*y\n",
        "print(cube(5))\n",
        "print(lambda_cube(5))"
      ],
      "metadata": {
        "colab": {
          "base_uri": "https://localhost:8080/"
        },
        "id": "0EJh8-mNJNiV",
        "outputId": "bf0d30f6-ca5d-4d4d-ddbd-7d0f95bd31f3"
      },
      "execution_count": null,
      "outputs": [
        {
          "output_type": "stream",
          "name": "stdout",
          "text": [
            "125\n",
            "125\n"
          ]
        }
      ]
    },
    {
      "cell_type": "code",
      "source": [
        "#3. Using in list comprehension\n",
        "tables = [lambda x=x: x*10 for x in range(1, 11)]\n",
        "for table in tables:\n",
        "  print(table())"
      ],
      "metadata": {
        "colab": {
          "base_uri": "https://localhost:8080/"
        },
        "id": "nzkEWEqqJQxV",
        "outputId": "2597992e-d40d-4fe7-f7cd-10a9bfc3efb9"
      },
      "execution_count": null,
      "outputs": [
        {
          "output_type": "stream",
          "name": "stdout",
          "text": [
            "10\n",
            "20\n",
            "30\n",
            "40\n",
            "50\n",
            "60\n",
            "70\n",
            "80\n",
            "90\n",
            "100\n"
          ]
        }
      ]
    },
    {
      "cell_type": "code",
      "source": [
        "#4. Using with if-else\n",
        "Max = lambda a, b : a if(a > b) else b\n",
        "print(Max(1, 2))"
      ],
      "metadata": {
        "colab": {
          "base_uri": "https://localhost:8080/"
        },
        "id": "dJtf8nzBJTAU",
        "outputId": "1ee19747-c9e0-4a99-cd3e-11a908f1f233"
      },
      "execution_count": null,
      "outputs": [
        {
          "output_type": "stream",
          "name": "stdout",
          "text": [
            "2\n"
          ]
        }
      ]
    },
    {
      "cell_type": "code",
      "source": [
        "#5. Using with filter()\n",
        "li = [5, 7, 22, 97, 54, 62, 77, 23, 73, 61]\n",
        "final_list = list(filter(lambda x: (x%2 != 0) , li))\n",
        "print(final_list)"
      ],
      "metadata": {
        "colab": {
          "base_uri": "https://localhost:8080/"
        },
        "id": "_LZhlEVHJW-O",
        "outputId": "c5befcaf-518d-4725-905a-449e271264eb"
      },
      "execution_count": null,
      "outputs": [
        {
          "output_type": "stream",
          "name": "stdout",
          "text": [
            "[5, 7, 97, 77, 23, 73, 61]\n"
          ]
        }
      ]
    },
    {
      "cell_type": "code",
      "source": [
        "#6. Using with map()\n",
        "animals = ['dog', 'cat', 'parrot', 'rabbit']\n",
        "\n",
        "# here we intend to change all animal names\n",
        "# to upper case and return the same\n",
        "uppered_animals = list(map(lambda animal: str.upper(animal), animals))\n",
        "print(uppered_animals)\n"
      ],
      "metadata": {
        "colab": {
          "base_uri": "https://localhost:8080/"
        },
        "id": "F3UGXJmnJati",
        "outputId": "f13783df-e7b2-492a-c66f-d28522bfde2d"
      },
      "execution_count": null,
      "outputs": [
        {
          "output_type": "stream",
          "name": "stdout",
          "text": [
            "['DOG', 'CAT', 'PARROT', 'RABBIT']\n"
          ]
        }
      ]
    },
    {
      "cell_type": "code",
      "source": [
        "#7. Using with reduce()\n",
        "import functools\n",
        "\n",
        "# initializing list\n",
        "lis = [ 1 , 3, 5, 6, 2, ]\n",
        "\n",
        "# using reduce to compute maximum element from list\n",
        "print (\"The maximum element of the list is : \",end=\"\")\n",
        "print (functools.reduce(lambda a,b : a if a > b else b,lis))\n"
      ],
      "metadata": {
        "colab": {
          "base_uri": "https://localhost:8080/"
        },
        "id": "W_fL9PSwJjU1",
        "outputId": "6bef9daa-981c-4997-bbd6-12f3ba3875e9"
      },
      "execution_count": null,
      "outputs": [
        {
          "output_type": "stream",
          "name": "stdout",
          "text": [
            "The maximum element of the list is : 6\n"
          ]
        }
      ]
    },
    {
      "cell_type": "markdown",
      "source": [
        "# ***Module 4***"
      ],
      "metadata": {
        "id": "ZzhUIUFeg6e6"
      }
    },
    {
      "cell_type": "code",
      "source": [
        "#Strings\n",
        "\"\"\"Strings in Python can be created using single quotes or double quotes or \n",
        "even triple quotes. Creating strings in triple quotes allows multiple lines.\"\"\"\n",
        "\"\"\"\n",
        "Individual characters of a String can be accessed by using the method of \n",
        "Indexing. \n",
        "Reversing a String:\n",
        "We can reverse a string by writing [::-1] .\n",
        "We can also reverse a string by using built-in join and reversed function.\n",
        "\"\"\"\n",
        "#Example:-\n",
        "#1\n",
        "gfg=\"geeksforgeeks\"\n",
        "print(gfg[::-1])\n",
        "\n",
        "#2\n",
        "gfg=\"\".join(reversed(gfg))\n",
        "print(gfg)"
      ],
      "metadata": {
        "colab": {
          "base_uri": "https://localhost:8080/"
        },
        "id": "TbY0g8Nuh4yV",
        "outputId": "9e56a3f0-e9ab-40d4-aaca-2ea3164f3df9"
      },
      "execution_count": null,
      "outputs": [
        {
          "output_type": "stream",
          "name": "stdout",
          "text": [
            "skeegrofskeeg\n",
            "skeegrofskeeg\n"
          ]
        }
      ]
    },
    {
      "cell_type": "code",
      "source": [
        "#String Slicing\n",
        "\"\"\"\n",
        "To access a range of characters in the String, the method of slicing is used. \n",
        "Slicing in a String is done by using a Slicing operator (colon). \n",
        "\"\"\"\n",
        "#Example:-\n",
        "a=\"GeeksforGeeks\"\n",
        "print(\"Normal String: \"+a)\n",
        "print(\"Slicing characters from 3-12 index: \"+ a[3:12])\n",
        "print(\"Slicing characters from 3rd to 2nd last index: \"+a[3:-2])\n"
      ],
      "metadata": {
        "colab": {
          "base_uri": "https://localhost:8080/"
        },
        "id": "YRhS5_LGnG9D",
        "outputId": "80171ba9-ca34-46f3-ddbe-2a1d350fd6a7"
      },
      "execution_count": null,
      "outputs": [
        {
          "output_type": "stream",
          "name": "stdout",
          "text": [
            "Normal String: GeeksforGeeks\n",
            "Slicing characters from 3-12 index: ksforGeek\n",
            "Slicing characters from 3rd to 2nd last index: ksforGee\n"
          ]
        }
      ]
    },
    {
      "cell_type": "code",
      "source": [
        "#Deletion and Updation of Strings\n",
        "\"\"\"\n",
        "Strings are immutable, hence elements of a string cannot be changed once it has \n",
        "been assigned. Only new strings can be reassigned to the same name. \n",
        "\"\"\"\n",
        "#Updating an entire string\n",
        "a=\"geeks\"\n",
        "print(\"Initial String: \"+ a)\n",
        "a=\"geeksforgeeks\"\n",
        "print(\"Updating the string: \"+a)"
      ],
      "metadata": {
        "colab": {
          "base_uri": "https://localhost:8080/"
        },
        "id": "kLM3gMQnpKMM",
        "outputId": "98a7d581-e344-4cf0-cf42-7cba2e057fdb"
      },
      "execution_count": null,
      "outputs": [
        {
          "output_type": "stream",
          "name": "stdout",
          "text": [
            "Initial String: geeks\n",
            "Updating the string: geeksforgeeks\n"
          ]
        }
      ]
    },
    {
      "cell_type": "code",
      "source": [
        "#Deletion of a character from a string\n",
        "# For this we use slicing\n",
        "a=\"Hello, I am an boxer\"\n",
        "print(\"Intial String:\"+a)\n",
        "print(\"Deleting n from the  String:\"+a[0:13]+a[14:])"
      ],
      "metadata": {
        "colab": {
          "base_uri": "https://localhost:8080/"
        },
        "id": "p6v3lwPQuA4Y",
        "outputId": "236ce3c8-5e69-403c-ea54-24cf41fdef88"
      },
      "execution_count": null,
      "outputs": [
        {
          "output_type": "stream",
          "name": "stdout",
          "text": [
            "Intial String:Hello, I am an boxer\n",
            "Deleting n from the  String:Hello, I am a boxer\n"
          ]
        }
      ]
    },
    {
      "cell_type": "markdown",
      "source": [
        "Escaping Sequence \n",
        "\n",
        "While printing Strings with single and double quotes in it causes SyntaxError \n",
        "because String already contains Single and Double Quotes and hence cannot be \n",
        "printed with the use of either of these. Hence, to print such a String either Triple Quotes are used or Escape sequences are used to print such Strings. \n",
        "\n",
        "To ignore the escape sequences in a String, r or R is used, this implies that the string is a raw string and escape sequences inside it are to be ignored."
      ],
      "metadata": {
        "id": "KqKX8AyjGPA2"
      }
    },
    {
      "cell_type": "code",
      "source": [
        "#Formatting of Strings\n",
        "\"\"\"\n",
        "Strings can be formatted with the use of format() method which is a \n",
        "very versatile and powerful tool for formatting Strings. Format method in \n",
        "String contains curly braces {} as placeholders which can hold arguments \n",
        "according to position or keyword to specify the order.\n",
        "\"\"\"\n",
        "#Example:-\n",
        "#Default\n",
        "a=\"{}{}{}\".format(\"Geeks\",\"for\",\"Geeks\")\n",
        "print(\"Default String: \"+a)\n",
        "\n",
        "#Positional Format\n",
        "a=\"{1}{0}{2}\".format(\"Geeks\",\"for\",\"Geeks\")\n",
        "print(\"Positional Formatted String: \"+a)\n",
        "\n",
        "#Keyword Format\n",
        "a=\"{g}{l}{f}\".format(g=\"Geeks\",f=\"for\",l=\"Life\")\n",
        "print(\"Keyword Formatted String: \"+a)"
      ],
      "metadata": {
        "colab": {
          "base_uri": "https://localhost:8080/"
        },
        "id": "TeU437KTFGeF",
        "outputId": "5233bd5e-6e3d-4f82-f6bc-f281ce42e9f9"
      },
      "execution_count": null,
      "outputs": [
        {
          "output_type": "stream",
          "name": "stdout",
          "text": [
            "Default String: GeeksforGeeks\n",
            "Positional Formatted String: forGeeksGeeks\n",
            "Keyword Formatted String: GeeksLifefor\n"
          ]
        }
      ]
    },
    {
      "cell_type": "code",
      "source": [
        "\"\"\"Integers such as Binary, hexadecimal, etc., and floats can be rounded or \n",
        "displayed in the exponent form with the use of format specifiers. \n",
        "\"\"\"\n",
        "# Formatting of Integers\n",
        "String1 = \"{0:b}\".format(16)\n",
        "print(\"\\nBinary representation of 16 is \")\n",
        "print(String1)\n",
        "\n",
        "# Formatting of Floats\n",
        "String1 = \"{0:e}\".format(165.6458)\n",
        "print(\"\\nExponent representation of 165.6458 is \")\n",
        "print(String1)\n",
        "\n",
        "# Rounding off Integers\n",
        "String1 = \"{0:.2f}\".format(1/6)\n",
        "print(\"\\none-sixth is : \")\n",
        "print(String1)\n"
      ],
      "metadata": {
        "colab": {
          "base_uri": "https://localhost:8080/"
        },
        "id": "0fsKhM5CJuqA",
        "outputId": "56dd6dcf-ec08-44a1-c3ea-24d0f5e1f673"
      },
      "execution_count": null,
      "outputs": [
        {
          "output_type": "stream",
          "name": "stdout",
          "text": [
            "\n",
            "Binary representation of 16 is \n",
            "10000\n",
            "\n",
            "Exponent representation of 165.6458 is \n",
            "1.656458e+02\n",
            "\n",
            "one-sixth is : \n",
            "0.17\n"
          ]
        }
      ]
    },
    {
      "cell_type": "markdown",
      "source": [
        "***Python String Constants and Deprecated string functions***\n",
        "\n",
        "https://practice.geeksforgeeks.org/batch/fork-python/track/python-module-4/article/MTU3MQ%3D%3D"
      ],
      "metadata": {
        "id": "cn1oyCHpLYkM"
      }
    },
    {
      "cell_type": "markdown",
      "source": [
        "***Python String Fucntions I***\n",
        "\n",
        "1. find(\"string\", beg, end) :- This function is used to find the position of the substring within a string.It takes 3 arguments, substring , starting index( by default 0) and ending index( by default string length). \n",
        " \n",
        "\n",
        "It returns \"-1 \" if string is not found in given range.\n",
        "It returns first occurrence of string if found.\n",
        "\n",
        "2. rfind(\"string\", beg, end) :- This function has the similar working as find(), but it returns the position of the last occurrence of string.\n",
        " \n",
        "3. startswith(\"string\", beg, end) :- The purpose of this function is to return true if the function begins with mentioned string(prefix) else return false.\n",
        "\n",
        "4. endswith(\"string\", beg, end) :- The purpose of this function is to return true if the function ends with mentioned string(suffix) else return false.\n",
        " \n",
        "5. islower(\"string\") :- This function returns true if all the letters in the string are lower cased, otherwise false.\n",
        "\n",
        "6. isupper(\"string\") :- This function returns true if all the letters in the string are upper cased, otherwise false.\n",
        " \n",
        "7. lower() :- This function returns the new string with all the letters converted into its lower case.\n",
        "\n",
        "8. upper() :- This function returns the new string with all the letters converted into its upper case.\n",
        "\n",
        "9. swapcase() :- This function is used to swap the cases of string i.e upper case is converted to lower case and vice versa.\n",
        "\n",
        "10. title() :- This function converts the string to its title case i.e the first letter of every word of string is upper cased and else all are lower cased.\n",
        " "
      ],
      "metadata": {
        "id": "mlrP1Xf8XtSP"
      }
    },
    {
      "cell_type": "markdown",
      "source": [
        "***Python String Fucntions II***\n",
        "\n",
        "1. len() :- This function returns the length of the string.\n",
        "\n",
        "2. count(\"string\", beg, end) :- This function counts the occurrence of mentioned substring in whole string. This function takes 3 arguments, substring, beginning position( by default 0) and end position(by default string length).\n",
        "\n",
        "3. center() :- This function is used to surround the string with a character repeated both sides of string multiple times. By default the character is a space. Takes 2 arguments, length of string and the character.\n",
        "\n",
        "4. ljust() :- This function returns the original string shifted to left that has a character at its right. It left adjusts the string. By default the character is space. It also takes two arguments, length of string and the character.\n",
        "\n",
        "5. rjust() :- This function returns the original string shifted to right that has a character at its left. It right adjusts the string. By default the character is space. It also takes two arguments, length of string and the character.\n",
        "\n",
        "6. isalpha() :- This function returns true when all the characters in the string are alphabets else returns false.\n",
        "\n",
        "7. isalnum() :- This function returns true when all the characters in the string are combination of numbers and/or alphabets else returns false.\n",
        "\n",
        "8. isspace() :- This function returns true when all the characters in the string are spaces else returns false.\n",
        "\n",
        "9. join() :- This function is used to join a sequence of strings mentioned in its arguments with the string.\n"
      ],
      "metadata": {
        "id": "89I9FDofYXqK"
      }
    },
    {
      "cell_type": "code",
      "source": [
        "# Python code to demonstrate working of \n",
        "# join()\n",
        "str = \"_\"\n",
        "str1 = ( \"geeks\", \"for\", \"geeks\" )\n",
        "\n",
        "# using join() to join sequence str1 with str\n",
        "print (\"The string after joining is : \", end=\"\")\n",
        "print ( str.join(str1))"
      ],
      "metadata": {
        "colab": {
          "base_uri": "https://localhost:8080/"
        },
        "id": "JfHjB7_AYWs_",
        "outputId": "52d6e13a-11fe-4aa4-a96d-f78bb2293a12"
      },
      "execution_count": null,
      "outputs": [
        {
          "output_type": "stream",
          "name": "stdout",
          "text": [
            "The string after joining is : geeks_for_geeks\n"
          ]
        }
      ]
    },
    {
      "cell_type": "markdown",
      "source": [
        "***Python String Fucntions III***\n",
        "\n",
        "1. strip():- This method is used to delete all the leading and trailing characters mentioned in its argument.\n",
        "2. lstrip():- This method is used to delete all the leading characters mentioned in its argument.\n",
        "3. rstrip():- This method is used to delete all the trailing characters mentioned in its argument.\n",
        "4. min(\"string\"):- This function returns the minimum value alphabet from the string.\n",
        "5. max(\"string\") :- This function returns the maximum value alphabet from string.\n",
        "6. maketrans():- It is used to map the contents of string 1 with string 2 with respective indices to be translated later using translate(). \n",
        "7. translate():- This is used to swap the string elements mapped with the help of maketrans().\n",
        "8. replace():- This function is used to replace the substring with a new substring in the string. This function has 3 arguments. The string to replace, new string which would replace and max value denoting the limit to replace action ( by default unlimited ). \n",
        "\n",
        " "
      ],
      "metadata": {
        "id": "a3ztjdzlcBhW"
      }
    },
    {
      "cell_type": "code",
      "source": [
        "# Code to convert string to list\n",
        "\n",
        "def Convert(string):\n",
        "    li = list(string.split(\" \"))\n",
        "    return li  \n",
        "str1 = \"Geeks for Geeks\"\n",
        "print(Convert(str1))"
      ],
      "metadata": {
        "colab": {
          "base_uri": "https://localhost:8080/"
        },
        "id": "1HzkGRBESvLY",
        "outputId": "5c4bf068-4c78-47ca-ae98-32e848f324cc"
      },
      "execution_count": null,
      "outputs": [
        {
          "output_type": "stream",
          "name": "stdout",
          "text": [
            "['Geeks', 'for', 'Geeks']\n"
          ]
        }
      ]
    },
    {
      "cell_type": "markdown",
      "source": [
        "**Regular Expression**\n",
        " \n",
        " All regex fucntions are in the  *re module*\n",
        "A Regex object’s search() method searches the string it is passed for any matches to the regex. Match objects have a group() method that will return the actual matched text from the searched string.\n"
      ],
      "metadata": {
        "id": "cIql_QmvBPy_"
      }
    },
    {
      "cell_type": "code",
      "source": [
        "#Regex Experession\n"
      ],
      "metadata": {
        "id": "P9hdITvB-Hnb"
      },
      "execution_count": null,
      "outputs": []
    },
    {
      "cell_type": "markdown",
      "source": [
        "# ***Module 5***"
      ],
      "metadata": {
        "id": "RVgbIhfwKUla"
      }
    },
    {
      "cell_type": "code",
      "source": [
        "# Lists\n",
        "# Lists are a sequnce data type used for storing collection of data\n",
        "# Creating a list\n",
        "#1. \n",
        "List1=[1,2,3]  #list of numerical values\n",
        "List2=[\"Rohan\",\"Khanna\"]  #list of strings \n",
        "List3=[1,2,3,4,4,4,5,5,6] #list having duplicate values\n",
        "List4=[1,\"Rohan\",2,\"Khanna\",3,\"Boxing\"] #list having  mixed of values\n",
        "print(List1)\n",
        "print(List2)\n",
        "print(List3)\n",
        "print(List4)"
      ],
      "metadata": {
        "colab": {
          "base_uri": "https://localhost:8080/"
        },
        "id": "L7-iYf_AKbq8",
        "outputId": "80948fd1-da06-4430-a0b1-fc7899b05d42"
      },
      "execution_count": null,
      "outputs": [
        {
          "output_type": "stream",
          "name": "stdout",
          "text": [
            "[1, 2, 3]\n",
            "['Rohan', 'Khanna']\n",
            "[1, 2, 3, 4, 4, 4, 5, 5, 6]\n",
            "[1, 'Rohan', 2, 'Khanna', 3, 'Boxing']\n"
          ]
        }
      ]
    },
    {
      "cell_type": "code",
      "source": [
        "#Multi-Dimensional List=Nested List\n",
        "Multi_List=[[\"Rohan\", \"Khanna\"],[\"Loves\",\"Boxing\"]]\n",
        "print(Multi_List[0][0])\n",
        "print(Multi_List[1][1])"
      ],
      "metadata": {
        "colab": {
          "base_uri": "https://localhost:8080/"
        },
        "id": "jjXDLqpApOuX",
        "outputId": "debe0b36-1528-4bf0-b85b-ede261d336c5"
      },
      "execution_count": null,
      "outputs": [
        {
          "output_type": "stream",
          "name": "stdout",
          "text": [
            "Rohan\n",
            "Boxing\n"
          ]
        }
      ]
    },
    {
      "cell_type": "code",
      "source": [
        "#Taking Input of a list\n",
        "#Method 1- using split\n",
        "a=input(\"Enter the elements:- \")\n",
        "List=a.split()\n",
        "print(List)\n",
        "\n",
        "#Method 2- using split, strip and map fucntions\n",
        "n=int(input(\"Enter the Size: \"))\n",
        "List=list(map(int,input(\"Enter the elements: \").strip().split()))[:n]\n",
        "print(\"The list is \",List)"
      ],
      "metadata": {
        "colab": {
          "base_uri": "https://localhost:8080/"
        },
        "id": "hxbW5WqptKbo",
        "outputId": "29834488-898e-4bb0-bdd7-fd103f38c1ae"
      },
      "execution_count": null,
      "outputs": [
        {
          "output_type": "stream",
          "name": "stdout",
          "text": [
            "Enter the elements:- Rohan loves Boxing\n",
            "['Rohan', 'loves', 'Boxing']\n",
            "Enter the Size: 4\n",
            "Enter the elements: 1 2 3 4\n",
            "The list is  [1, 2, 3, 4]\n"
          ]
        }
      ]
    },
    {
      "cell_type": "code",
      "source": [
        "# Addition of elements in elements\n",
        "\n",
        "#1. Using append()\n",
        "a= []\n",
        "print(\"List start status \",a)\n",
        "#Adding elements using append()\n",
        "for i in range(1,4):\n",
        "  a.append(i)\n",
        "print(\"List after append \",a)\n",
        "\n",
        "#Adding tuples to the list\n",
        "a.append((5,2))\n",
        "print(\"List after adding a tuple \", a)\n",
        "\n",
        "#Adding another list to an existing list\n",
        "b=\"Appending a list\"\n",
        "a.append(b)\n",
        "print(\"List after adding annew list\", a)"
      ],
      "metadata": {
        "colab": {
          "base_uri": "https://localhost:8080/"
        },
        "id": "4ICk4yqddGsU",
        "outputId": "07e759fd-2dec-46bb-ca34-416c5bbef031"
      },
      "execution_count": null,
      "outputs": [
        {
          "output_type": "stream",
          "name": "stdout",
          "text": [
            "List start status  []\n",
            "List after append  [1, 2, 3]\n",
            "List after adding a tuple  [1, 2, 3, (5, 2)]\n",
            "List after adding annew list [1, 2, 3, (5, 2), 'Appending a list']\n"
          ]
        }
      ]
    },
    {
      "cell_type": "markdown",
      "source": [
        "append() only works when we have to add elements to the end of the list"
      ],
      "metadata": {
        "id": "mWXIHxEEfobV"
      }
    }
  ]
}